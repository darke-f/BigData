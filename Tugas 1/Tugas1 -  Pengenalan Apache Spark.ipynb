{
 "cells": [
  {
   "cell_type": "markdown",
   "metadata": {},
   "source": [
    "# Dataset\n",
    "\n",
    "1. Dataset used : Synthetic Financial Datasets For Fraud Detection [ https://www.kaggle.com/ntnu-testimon/paysim1 ]\n",
    "2. Description : Paysim synthetic dataset of mobile money transactions. Each step represents an hour of simulation. This dataset is scaled down 1/4 of the original dataset which is presented in the paper \"PaySim: A financial mobile money simulator for fraud detection\"."
   ]
  },
  {
   "cell_type": "markdown",
   "metadata": {},
   "source": [
    "# Initializing Spark"
   ]
  },
  {
   "cell_type": "code",
   "execution_count": 43,
   "metadata": {},
   "outputs": [],
   "source": [
    "# Import findspark to read SPARK_HOME and HADOOP_HOME\n",
    "import findspark\n",
    "findspark.init()\n",
    "# Import required library\n",
    "from pyspark.sql import SparkSession\n",
    "\n",
    "# Create Spark Session\n",
    "spark = SparkSession.builder.appName(\"Simple data mining with Synthetic Financial Dataset\").getOrCreate()\n",
    "    "
   ]
  },
  {
   "cell_type": "code",
   "execution_count": 44,
   "metadata": {},
   "outputs": [
    {
     "name": "stdout",
     "output_type": "stream",
     "text": [
      "<pyspark.sql.session.SparkSession object at 0x000001D9432B79B0>\n"
     ]
    }
   ],
   "source": [
    "# Print Spark object ID\n",
    "print(spark)"
   ]
  },
  {
   "cell_type": "markdown",
   "metadata": {},
   "source": [
    "# Loading Dataset "
   ]
  },
  {
   "cell_type": "code",
   "execution_count": 45,
   "metadata": {},
   "outputs": [],
   "source": [
    "df = spark.read.csv(\"E:/BD/PS_20174392719_1491204439457_log.csv\", header=True, inferSchema=True)"
   ]
  },
  {
   "cell_type": "code",
   "execution_count": 46,
   "metadata": {},
   "outputs": [
    {
     "name": "stdout",
     "output_type": "stream",
     "text": [
      "+----+--------+---------+-----------+-------------+--------------+-----------+--------------+--------------+-------+--------------+\n",
      "|step|    type|   amount|   nameOrig|oldbalanceOrg|newbalanceOrig|   nameDest|oldbalanceDest|newbalanceDest|isFraud|isFlaggedFraud|\n",
      "+----+--------+---------+-----------+-------------+--------------+-----------+--------------+--------------+-------+--------------+\n",
      "|   1| PAYMENT|  9839.64|C1231006815|     170136.0|     160296.36|M1979787155|           0.0|           0.0|      0|             0|\n",
      "|   1| PAYMENT|  1864.28|C1666544295|      21249.0|      19384.72|M2044282225|           0.0|           0.0|      0|             0|\n",
      "|   1|TRANSFER|    181.0|C1305486145|        181.0|           0.0| C553264065|           0.0|           0.0|      1|             0|\n",
      "|   1|CASH_OUT|    181.0| C840083671|        181.0|           0.0|  C38997010|       21182.0|           0.0|      1|             0|\n",
      "|   1| PAYMENT| 11668.14|C2048537720|      41554.0|      29885.86|M1230701703|           0.0|           0.0|      0|             0|\n",
      "|   1| PAYMENT|  7817.71|  C90045638|      53860.0|      46042.29| M573487274|           0.0|           0.0|      0|             0|\n",
      "|   1| PAYMENT|  7107.77| C154988899|     183195.0|     176087.23| M408069119|           0.0|           0.0|      0|             0|\n",
      "|   1| PAYMENT|  7861.64|C1912850431|    176087.23|     168225.59| M633326333|           0.0|           0.0|      0|             0|\n",
      "|   1| PAYMENT|  4024.36|C1265012928|       2671.0|           0.0|M1176932104|           0.0|           0.0|      0|             0|\n",
      "|   1|   DEBIT|  5337.77| C712410124|      41720.0|      36382.23| C195600860|       41898.0|      40348.79|      0|             0|\n",
      "|   1|   DEBIT|  9644.94|C1900366749|       4465.0|           0.0| C997608398|       10845.0|     157982.12|      0|             0|\n",
      "|   1| PAYMENT|  3099.97| C249177573|      20771.0|      17671.03|M2096539129|           0.0|           0.0|      0|             0|\n",
      "|   1| PAYMENT|  2560.74|C1648232591|       5070.0|       2509.26| M972865270|           0.0|           0.0|      0|             0|\n",
      "|   1| PAYMENT| 11633.76|C1716932897|      10127.0|           0.0| M801569151|           0.0|           0.0|      0|             0|\n",
      "|   1| PAYMENT|  4098.78|C1026483832|     503264.0|     499165.22|M1635378213|           0.0|           0.0|      0|             0|\n",
      "|   1|CASH_OUT|229133.94| C905080434|      15325.0|           0.0| C476402209|        5083.0|      51513.44|      0|             0|\n",
      "|   1| PAYMENT|  1563.82| C761750706|        450.0|           0.0|M1731217984|           0.0|           0.0|      0|             0|\n",
      "|   1| PAYMENT|  1157.86|C1237762639|      21156.0|      19998.14|M1877062907|           0.0|           0.0|      0|             0|\n",
      "|   1| PAYMENT|   671.64|C2033524545|      15123.0|      14451.36| M473053293|           0.0|           0.0|      0|             0|\n",
      "|   1|TRANSFER| 215310.3|C1670993182|        705.0|           0.0|C1100439041|       22425.0|           0.0|      0|             0|\n",
      "+----+--------+---------+-----------+-------------+--------------+-----------+--------------+--------------+-------+--------------+\n",
      "only showing top 20 rows\n",
      "\n"
     ]
    }
   ],
   "source": [
    "#Show Dataset\n",
    "\n",
    "df.show()"
   ]
  },
  {
   "cell_type": "code",
   "execution_count": 47,
   "metadata": {},
   "outputs": [
    {
     "data": {
      "text/plain": [
       "6362620"
      ]
     },
     "execution_count": 47,
     "metadata": {},
     "output_type": "execute_result"
    }
   ],
   "source": [
    "#Count how many rows in dataset\n",
    "\n",
    "df.count()"
   ]
  },
  {
   "cell_type": "code",
   "execution_count": 48,
   "metadata": {},
   "outputs": [
    {
     "data": {
      "text/plain": [
       "StructType(List(StructField(step,IntegerType,true),StructField(type,StringType,true),StructField(amount,DoubleType,true),StructField(nameOrig,StringType,true),StructField(oldbalanceOrg,DoubleType,true),StructField(newbalanceOrig,DoubleType,true),StructField(nameDest,StringType,true),StructField(oldbalanceDest,DoubleType,true),StructField(newbalanceDest,DoubleType,true),StructField(isFraud,IntegerType,true),StructField(isFlaggedFraud,IntegerType,true)))"
      ]
     },
     "execution_count": 48,
     "metadata": {},
     "output_type": "execute_result"
    }
   ],
   "source": [
    "#Show Dataset Schema\n",
    "\n",
    "df.schema"
   ]
  },
  {
   "cell_type": "code",
   "execution_count": 49,
   "metadata": {},
   "outputs": [],
   "source": [
    "#Register the DataFrame as a SQL temporary view\n",
    "\n",
    "df.createOrReplaceTempView(\"finance\")"
   ]
  },
  {
   "cell_type": "code",
   "execution_count": 50,
   "metadata": {},
   "outputs": [
    {
     "name": "stdout",
     "output_type": "stream",
     "text": [
      "+------------+\n",
      "|NumberOfRows|\n",
      "+------------+\n",
      "|     6362620|\n",
      "+------------+\n",
      "\n"
     ]
    }
   ],
   "source": [
    "#Test counting how many rows is in the SQL View\n",
    "\n",
    "Test = spark.sql(\"SELECT COUNT(*) AS NumberOfRows FROM finance\")\n",
    "Test.show()"
   ]
  },
  {
   "cell_type": "markdown",
   "metadata": {
    "collapsed": true
   },
   "source": [
    "# Data Mining Process"
   ]
  },
  {
   "cell_type": "code",
   "execution_count": 51,
   "metadata": {},
   "outputs": [
    {
     "name": "stdout",
     "output_type": "stream",
     "text": [
      "+---------------+-------+\n",
      "|TransactionType|  Total|\n",
      "+---------------+-------+\n",
      "|       TRANSFER| 532909|\n",
      "|        CASH_IN|1399284|\n",
      "|       CASH_OUT|2237500|\n",
      "|        PAYMENT|2151495|\n",
      "|          DEBIT|  41432|\n",
      "+---------------+-------+\n",
      "\n"
     ]
    }
   ],
   "source": [
    "# 1. Jumlah transaksi per tipe yang terjadi\n",
    "\n",
    "Q1 = spark.sql(\"SELECT type as TransactionType, COUNT(type) AS Total FROM finance GROUP BY type\")\n",
    "Q1.show()"
   ]
  },
  {
   "cell_type": "code",
   "execution_count": 52,
   "metadata": {},
   "outputs": [
    {
     "name": "stdout",
     "output_type": "stream",
     "text": [
      "+----+--------+-------------+-----------+-------------+--------------+----------+--------------+--------------+-------+--------------+\n",
      "|step|    type|       amount|   nameOrig|oldbalanceOrg|newbalanceOrig|  nameDest|oldbalanceDest|newbalanceDest|isFraud|isFlaggedFraud|\n",
      "+----+--------+-------------+-----------+-------------+--------------+----------+--------------+--------------+-------+--------------+\n",
      "| 276|TRANSFER|9.244551664E7|C1715283297|          0.0|           0.0|C439737079|       9595.98| 9.245511262E7|      0|             0|\n",
      "+----+--------+-------------+-----------+-------------+--------------+----------+--------------+--------------+-------+--------------+\n",
      "\n"
     ]
    }
   ],
   "source": [
    "# 2. Mencari Transaksi dengan Jumlah uang dalam transaksi yang paling banyak\n",
    "\n",
    "Q2 = spark.sql(\"SELECT * FROM finance WHERE amount = (SELECT MAX(amount) FROM finance)\")\n",
    "Q2.show()"
   ]
  },
  {
   "cell_type": "code",
   "execution_count": 53,
   "metadata": {},
   "outputs": [
    {
     "name": "stdout",
     "output_type": "stream",
     "text": [
      "+----------+\n",
      "|TotalFraud|\n",
      "+----------+\n",
      "|      8213|\n",
      "+----------+\n",
      "\n"
     ]
    }
   ],
   "source": [
    "# 3. Jumlah Fraud yg terjadi\n",
    "\n",
    "Q3 = spark.sql(\"SELECT SUM(isFraud) AS TotalFraud FROM finance\")\n",
    "Q3.show()"
   ]
  },
  {
   "cell_type": "code",
   "execution_count": 54,
   "metadata": {},
   "outputs": [
    {
     "name": "stdout",
     "output_type": "stream",
     "text": [
      "+-------------------+\n",
      "|TotalFlaggedASFraud|\n",
      "+-------------------+\n",
      "|                 16|\n",
      "+-------------------+\n",
      "\n"
     ]
    }
   ],
   "source": [
    "# 4. Jumlah transaksi yang ditandai sebagai Fraud\n",
    "\n",
    "Q4 = spark.sql(\"SELECT SUM(isFlaggedFraud) AS TotalFlaggedASFraud FROM finance\")\n",
    "Q4.show()"
   ]
  },
  {
   "cell_type": "code",
   "execution_count": 55,
   "metadata": {},
   "outputs": [
    {
     "name": "stdout",
     "output_type": "stream",
     "text": [
      "+------+\n",
      "| Total|\n",
      "+------+\n",
      "|477565|\n",
      "+------+\n",
      "\n"
     ]
    }
   ],
   "source": [
    "# 5. Jumlah Transaksi yang memindahkan uang lebih dari 50.000\n",
    "\n",
    "Q5 = spark.sql(\"SELECT Count(amount) AS Total FROM finance WHERE oldbalanceOrg-newbalanceOrig >= 50000\")\n",
    "Q5.show()"
   ]
  },
  {
   "cell_type": "code",
   "execution_count": 56,
   "metadata": {},
   "outputs": [
    {
     "name": "stdout",
     "output_type": "stream",
     "text": [
      "+-----------+\n",
      "|   Customer|\n",
      "+-----------+\n",
      "|C1460694498|\n",
      "|C1990967983|\n",
      "| C299941121|\n",
      "|C1729943422|\n",
      "|C1962597060|\n",
      "| C218035452|\n",
      "| C234620038|\n",
      "| C257048083|\n",
      "|C1470845070|\n",
      "|C1509275105|\n",
      "|C1999414572|\n",
      "| C962302306|\n",
      "| C785784728|\n",
      "|C1574306546|\n",
      "| C232430838|\n",
      "| C957364590|\n",
      "|C1022049431|\n",
      "|C1113810805|\n",
      "|C1363461862|\n",
      "| C514110980|\n",
      "+-----------+\n",
      "only showing top 20 rows\n",
      "\n"
     ]
    }
   ],
   "source": [
    "# 6. List Customer yang melakukan transaksi pada hari ke 7\n",
    "\n",
    "Q6 = spark.sql(\"SELECT DISTINCT nameOrig AS Customer FROM finance WHERE step <=168 and step > 145\")\n",
    "Q6.show()"
   ]
  },
  {
   "cell_type": "code",
   "execution_count": 57,
   "metadata": {},
   "outputs": [
    {
     "name": "stdout",
     "output_type": "stream",
     "text": [
      "+---------------+------+\n",
      "|TransactionDate| Total|\n",
      "+---------------+------+\n",
      "|             20|647814|\n",
      "+---------------+------+\n",
      "\n"
     ]
    }
   ],
   "source": [
    "# 7. Mencari Tanggal berapa yang memiliki jumlah transaksi paling banyak\n",
    "\n",
    "Q7 = spark.sql(\"SELECT (step%24+1) AS TransactionDate, COUNT(step) AS Total FROM finance GROUP BY TransactionDate \\\n",
    "                ORDER BY Total DESC LIMIT 1\")\n",
    "Q7.show()"
   ]
  },
  {
   "cell_type": "code",
   "execution_count": 58,
   "metadata": {},
   "outputs": [
    {
     "name": "stdout",
     "output_type": "stream",
     "text": [
      "+-----------+\n",
      "|  Recipient|\n",
      "+-----------+\n",
      "|  C39713115|\n",
      "|C1530856786|\n",
      "|C1788050799|\n",
      "| C497806226|\n",
      "|C1039865382|\n",
      "|C1827559894|\n",
      "| C522632546|\n",
      "| C294252921|\n",
      "| C445613834|\n",
      "|  C50060430|\n",
      "|C1411451832|\n",
      "| C717575644|\n",
      "| C486388931|\n",
      "|C1417414644|\n",
      "|C1752591265|\n",
      "|C1796712971|\n",
      "| C880331985|\n",
      "|  C62375945|\n",
      "|C1517552713|\n",
      "|  C14137534|\n",
      "+-----------+\n",
      "only showing top 20 rows\n",
      "\n"
     ]
    }
   ],
   "source": [
    "# 8. List Recipient yang mengalami penurunan saldo\n",
    "\n",
    "Q8 = spark.sql(\"SELECT DISTINCT nameDest AS Recipient FROM finance WHERE newbalanceDest-oldbalanceDest < 0\")\n",
    "Q8.show()"
   ]
  },
  {
   "cell_type": "code",
   "execution_count": 59,
   "metadata": {},
   "outputs": [
    {
     "name": "stdout",
     "output_type": "stream",
     "text": [
      "+-----------+\n",
      "|   Customer|\n",
      "+-----------+\n",
      "| C548036299|\n",
      "| C693994331|\n",
      "| C848252215|\n",
      "|  C42223398|\n",
      "|C1272101499|\n",
      "| C494513285|\n",
      "| C938847804|\n",
      "| C464178878|\n",
      "|C1147221050|\n",
      "|C2119459805|\n",
      "| C607933763|\n",
      "|  C21308903|\n",
      "|C1872848880|\n",
      "|C1747555160|\n",
      "|C1805414807|\n",
      "|C1027158865|\n",
      "| C424793600|\n",
      "| C247349616|\n",
      "|C1016478517|\n",
      "| C248386059|\n",
      "+-----------+\n",
      "only showing top 20 rows\n",
      "\n"
     ]
    }
   ],
   "source": [
    "# 9. List Customer yang melakukan transaksi dari tanggal 15 hingga 21 (inclusive)\n",
    "\n",
    "Q9 = spark.sql(\"SELECT DISTINCT nameOrig AS Customer FROM finance WHERE step >= 360 and step <= 504\")\n",
    "Q9.show()"
   ]
  },
  {
   "cell_type": "code",
   "execution_count": 60,
   "metadata": {},
   "outputs": [
    {
     "name": "stdout",
     "output_type": "stream",
     "text": [
      "+-----------+----------+\n",
      "|   Customer|   Balance|\n",
      "+-----------+----------+\n",
      "|C1614133563| 371688.15|\n",
      "|C1921143808|2394376.85|\n",
      "| C168398198| 9822207.6|\n",
      "|C1561936660|5347521.57|\n",
      "|C1056094437|3478977.61|\n",
      "| C586681910|  926816.0|\n",
      "|C1805660016| 253151.34|\n",
      "| C111105514|3776336.45|\n",
      "| C197080602| 292689.28|\n",
      "|  C20910666|5837237.45|\n",
      "| C724022349|7206813.28|\n",
      "|C1795542379| 794086.49|\n",
      "| C612811551| 157336.89|\n",
      "|C1480495645|2722218.28|\n",
      "|C1583425429|1133342.03|\n",
      "|C1227605734| 497797.47|\n",
      "|C1389988979| 136547.07|\n",
      "|C1854532358| 802129.31|\n",
      "|C2095763698|4070680.13|\n",
      "|C1591980638|8216737.38|\n",
      "+-----------+----------+\n",
      "only showing top 20 rows\n",
      "\n"
     ]
    }
   ],
   "source": [
    "# 10. List Customer yang memiliki balance lebih dari 100.000 setelah transaksi\n",
    "\n",
    "Q10 = spark.sql(\"SELECT DISTINCT nameOrig AS Customer, newbalanceOrig AS Balance FROM finance WHERE newBalanceOrig > 100000\")\n",
    "Q10.show()"
   ]
  }
 ],
 "metadata": {
  "kernelspec": {
   "display_name": "Python 3",
   "language": "python",
   "name": "python3"
  },
  "language_info": {
   "codemirror_mode": {
    "name": "ipython",
    "version": 3
   },
   "file_extension": ".py",
   "mimetype": "text/x-python",
   "name": "python",
   "nbconvert_exporter": "python",
   "pygments_lexer": "ipython3",
   "version": "3.6.4"
  }
 },
 "nbformat": 4,
 "nbformat_minor": 2
}
