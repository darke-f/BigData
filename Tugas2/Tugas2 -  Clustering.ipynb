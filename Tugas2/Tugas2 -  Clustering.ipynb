{
 "cells": [
  {
   "cell_type": "markdown",
   "metadata": {},
   "source": [
    "# Initializing Spark"
   ]
  },
  {
   "cell_type": "code",
   "execution_count": 1,
   "metadata": {},
   "outputs": [],
   "source": [
    "# Import findspark to read SPARK_HOME and HADOOP_HOME\n",
    "import findspark\n",
    "findspark.init()\n",
    "# Import required library\n",
    "from pyspark.sql import SparkSession\n",
    "\n",
    "# Create Spark Session\n",
    "spark = SparkSession.builder.appName(\"Simple data mining with Synthetic Financial Dataset\").getOrCreate()\n",
    "    "
   ]
  },
  {
   "cell_type": "code",
   "execution_count": 2,
   "metadata": {},
   "outputs": [
    {
     "name": "stdout",
     "output_type": "stream",
     "text": [
      "<pyspark.sql.session.SparkSession object at 0x000001D9A8962F28>\n"
     ]
    }
   ],
   "source": [
    "# Print Spark object ID\n",
    "print(spark)"
   ]
  },
  {
   "cell_type": "markdown",
   "metadata": {},
   "source": [
    "# Loading Dataset "
   ]
  },
  {
   "cell_type": "code",
   "execution_count": 5,
   "metadata": {},
   "outputs": [],
   "source": [
    "df = spark.read.csv(\"D:\\Kuliah\\Smt6\\Big Data\\Tugas\\PS_20174392719_1491204439457_log.csv\", header=True, inferSchema=True)"
   ]
  },
  {
   "cell_type": "code",
   "execution_count": 6,
   "metadata": {},
   "outputs": [
    {
     "name": "stdout",
     "output_type": "stream",
     "text": [
      "+----+--------+---------+-----------+-------------+--------------+-----------+--------------+--------------+-------+--------------+\n",
      "|step|    type|   amount|   nameOrig|oldbalanceOrg|newbalanceOrig|   nameDest|oldbalanceDest|newbalanceDest|isFraud|isFlaggedFraud|\n",
      "+----+--------+---------+-----------+-------------+--------------+-----------+--------------+--------------+-------+--------------+\n",
      "|   1| PAYMENT|  9839.64|C1231006815|     170136.0|     160296.36|M1979787155|           0.0|           0.0|      0|             0|\n",
      "|   1| PAYMENT|  1864.28|C1666544295|      21249.0|      19384.72|M2044282225|           0.0|           0.0|      0|             0|\n",
      "|   1|TRANSFER|    181.0|C1305486145|        181.0|           0.0| C553264065|           0.0|           0.0|      1|             0|\n",
      "|   1|CASH_OUT|    181.0| C840083671|        181.0|           0.0|  C38997010|       21182.0|           0.0|      1|             0|\n",
      "|   1| PAYMENT| 11668.14|C2048537720|      41554.0|      29885.86|M1230701703|           0.0|           0.0|      0|             0|\n",
      "|   1| PAYMENT|  7817.71|  C90045638|      53860.0|      46042.29| M573487274|           0.0|           0.0|      0|             0|\n",
      "|   1| PAYMENT|  7107.77| C154988899|     183195.0|     176087.23| M408069119|           0.0|           0.0|      0|             0|\n",
      "|   1| PAYMENT|  7861.64|C1912850431|    176087.23|     168225.59| M633326333|           0.0|           0.0|      0|             0|\n",
      "|   1| PAYMENT|  4024.36|C1265012928|       2671.0|           0.0|M1176932104|           0.0|           0.0|      0|             0|\n",
      "|   1|   DEBIT|  5337.77| C712410124|      41720.0|      36382.23| C195600860|       41898.0|      40348.79|      0|             0|\n",
      "|   1|   DEBIT|  9644.94|C1900366749|       4465.0|           0.0| C997608398|       10845.0|     157982.12|      0|             0|\n",
      "|   1| PAYMENT|  3099.97| C249177573|      20771.0|      17671.03|M2096539129|           0.0|           0.0|      0|             0|\n",
      "|   1| PAYMENT|  2560.74|C1648232591|       5070.0|       2509.26| M972865270|           0.0|           0.0|      0|             0|\n",
      "|   1| PAYMENT| 11633.76|C1716932897|      10127.0|           0.0| M801569151|           0.0|           0.0|      0|             0|\n",
      "|   1| PAYMENT|  4098.78|C1026483832|     503264.0|     499165.22|M1635378213|           0.0|           0.0|      0|             0|\n",
      "|   1|CASH_OUT|229133.94| C905080434|      15325.0|           0.0| C476402209|        5083.0|      51513.44|      0|             0|\n",
      "|   1| PAYMENT|  1563.82| C761750706|        450.0|           0.0|M1731217984|           0.0|           0.0|      0|             0|\n",
      "|   1| PAYMENT|  1157.86|C1237762639|      21156.0|      19998.14|M1877062907|           0.0|           0.0|      0|             0|\n",
      "|   1| PAYMENT|   671.64|C2033524545|      15123.0|      14451.36| M473053293|           0.0|           0.0|      0|             0|\n",
      "|   1|TRANSFER| 215310.3|C1670993182|        705.0|           0.0|C1100439041|       22425.0|           0.0|      0|             0|\n",
      "+----+--------+---------+-----------+-------------+--------------+-----------+--------------+--------------+-------+--------------+\n",
      "only showing top 20 rows\n",
      "\n"
     ]
    }
   ],
   "source": [
    "#Show Dataset\n",
    "\n",
    "df.show()"
   ]
  },
  {
   "cell_type": "code",
   "execution_count": 7,
   "metadata": {},
   "outputs": [
    {
     "data": {
      "text/plain": [
       "6362620"
      ]
     },
     "execution_count": 7,
     "metadata": {},
     "output_type": "execute_result"
    }
   ],
   "source": [
    "#Count how many rows in dataset\n",
    "\n",
    "df.count()"
   ]
  },
  {
   "cell_type": "code",
   "execution_count": 8,
   "metadata": {},
   "outputs": [
    {
     "data": {
      "text/plain": [
       "StructType(List(StructField(step,IntegerType,true),StructField(type,StringType,true),StructField(amount,DoubleType,true),StructField(nameOrig,StringType,true),StructField(oldbalanceOrg,DoubleType,true),StructField(newbalanceOrig,DoubleType,true),StructField(nameDest,StringType,true),StructField(oldbalanceDest,DoubleType,true),StructField(newbalanceDest,DoubleType,true),StructField(isFraud,IntegerType,true),StructField(isFlaggedFraud,IntegerType,true)))"
      ]
     },
     "execution_count": 8,
     "metadata": {},
     "output_type": "execute_result"
    }
   ],
   "source": [
    "#Show Dataset Schema\n",
    "\n",
    "df.schema"
   ]
  },
  {
   "cell_type": "code",
   "execution_count": 9,
   "metadata": {},
   "outputs": [],
   "source": [
    "#Register the DataFrame as a SQL temporary view\n",
    "\n",
    "df.createOrReplaceTempView(\"finance\")"
   ]
  },
  {
   "cell_type": "code",
   "execution_count": 10,
   "metadata": {},
   "outputs": [
    {
     "name": "stdout",
     "output_type": "stream",
     "text": [
      "+------------+\n",
      "|NumberOfRows|\n",
      "+------------+\n",
      "|     6362620|\n",
      "+------------+\n",
      "\n"
     ]
    }
   ],
   "source": [
    "#Test counting how many rows is in the SQL View\n",
    "\n",
    "Test = spark.sql(\"SELECT COUNT(*) AS NumberOfRows FROM finance\")\n",
    "Test.show()"
   ]
  },
  {
   "cell_type": "markdown",
   "metadata": {
    "collapsed": true
   },
   "source": [
    "# Clustering"
   ]
  },
  {
   "cell_type": "code",
   "execution_count": 29,
   "metadata": {},
   "outputs": [
    {
     "name": "stdout",
     "output_type": "stream",
     "text": [
      "+---------------+-------+-------+\n",
      "|TransactionType| amount|isFraud|\n",
      "+---------------+-------+-------+\n",
      "|        CASH_IN| 142.71|      0|\n",
      "|        CASH_IN| 623.03|      0|\n",
      "|        CASH_IN| 695.79|      0|\n",
      "|        CASH_IN| 935.54|      0|\n",
      "|        CASH_IN|1366.77|      0|\n",
      "|        CASH_IN| 1376.7|      0|\n",
      "|        CASH_IN|1478.27|      0|\n",
      "|        CASH_IN|2022.21|      0|\n",
      "|        CASH_IN| 2351.5|      0|\n",
      "|        CASH_IN|2913.35|      0|\n",
      "|        CASH_IN|3447.53|      0|\n",
      "|        CASH_IN|3995.33|      0|\n",
      "|        CASH_IN|4752.94|      0|\n",
      "|        CASH_IN|5241.73|      0|\n",
      "|        CASH_IN|5627.86|      0|\n",
      "|        CASH_IN|6297.93|      0|\n",
      "|        CASH_IN|6730.26|      0|\n",
      "|        CASH_IN|7193.08|      0|\n",
      "|        CASH_IN|7493.19|      0|\n",
      "|        CASH_IN|8513.77|      0|\n",
      "+---------------+-------+-------+\n",
      "only showing top 20 rows\n",
      "\n"
     ]
    }
   ],
   "source": [
    "# 1. Jumlah uang yang terlibat per transaksi untuk mendeteksi apakah transaksi merupakan fraud\n",
    "\n",
    "Q1 = spark.sql(\"SELECT DISTINCT type as TransactionType, amount, isFraud FROM finance\")\n",
    "Q1.show()"
   ]
  },
  {
   "cell_type": "code",
   "execution_count": 30,
   "metadata": {},
   "outputs": [
    {
     "name": "stdout",
     "output_type": "stream",
     "text": [
      "+---------------+-------+-------+---------+\n",
      "|TransactionType| amount|isFraud| features|\n",
      "+---------------+-------+-------+---------+\n",
      "|        CASH_IN| 142.71|      0| [142.71]|\n",
      "|        CASH_IN| 623.03|      0| [623.03]|\n",
      "|        CASH_IN| 695.79|      0| [695.79]|\n",
      "|        CASH_IN| 935.54|      0| [935.54]|\n",
      "|        CASH_IN|1366.77|      0|[1366.77]|\n",
      "|        CASH_IN| 1376.7|      0| [1376.7]|\n",
      "|        CASH_IN|1478.27|      0|[1478.27]|\n",
      "|        CASH_IN|2022.21|      0|[2022.21]|\n",
      "|        CASH_IN| 2351.5|      0| [2351.5]|\n",
      "|        CASH_IN|2913.35|      0|[2913.35]|\n",
      "|        CASH_IN|3447.53|      0|[3447.53]|\n",
      "|        CASH_IN|3995.33|      0|[3995.33]|\n",
      "|        CASH_IN|4752.94|      0|[4752.94]|\n",
      "|        CASH_IN|5241.73|      0|[5241.73]|\n",
      "|        CASH_IN|5627.86|      0|[5627.86]|\n",
      "|        CASH_IN|6297.93|      0|[6297.93]|\n",
      "|        CASH_IN|6730.26|      0|[6730.26]|\n",
      "|        CASH_IN|7193.08|      0|[7193.08]|\n",
      "|        CASH_IN|7493.19|      0|[7493.19]|\n",
      "|        CASH_IN|8513.77|      0|[8513.77]|\n",
      "+---------------+-------+-------+---------+\n",
      "only showing top 20 rows\n",
      "\n"
     ]
    }
   ],
   "source": [
    "# Assembling Vector\n",
    "from pyspark.ml.feature import VectorAssembler\n",
    "\n",
    "assembler = VectorAssembler(\n",
    "    inputCols=[\"amount\"],\n",
    "    outputCol='features')\n",
    "\n",
    "data = assembler.transform(Q1)\n",
    "data.show()"
   ]
  },
  {
   "cell_type": "code",
   "execution_count": 31,
   "metadata": {},
   "outputs": [],
   "source": [
    "# Train model\n",
    "from pyspark.ml.clustering import KMeans\n",
    "from pyspark.ml.evaluation import ClusteringEvaluator\n",
    "\n",
    "kmeans = KMeans().setK(3).setSeed(1)\n",
    "model = kmeans.fit(data)"
   ]
  },
  {
   "cell_type": "code",
   "execution_count": 32,
   "metadata": {},
   "outputs": [
    {
     "name": "stdout",
     "output_type": "stream",
     "text": [
      "+---------------+-------+-------+---------+----------+\n",
      "|TransactionType| amount|isFraud| features|prediction|\n",
      "+---------------+-------+-------+---------+----------+\n",
      "|        CASH_IN| 142.71|      0| [142.71]|         0|\n",
      "|        CASH_IN| 623.03|      0| [623.03]|         0|\n",
      "|        CASH_IN| 695.79|      0| [695.79]|         0|\n",
      "|        CASH_IN| 935.54|      0| [935.54]|         0|\n",
      "|        CASH_IN|1366.77|      0|[1366.77]|         0|\n",
      "|        CASH_IN| 1376.7|      0| [1376.7]|         0|\n",
      "|        CASH_IN|1478.27|      0|[1478.27]|         0|\n",
      "|        CASH_IN|2022.21|      0|[2022.21]|         0|\n",
      "|        CASH_IN| 2351.5|      0| [2351.5]|         0|\n",
      "|        CASH_IN|2913.35|      0|[2913.35]|         0|\n",
      "|        CASH_IN|3447.53|      0|[3447.53]|         0|\n",
      "|        CASH_IN|3995.33|      0|[3995.33]|         0|\n",
      "|        CASH_IN|4752.94|      0|[4752.94]|         0|\n",
      "|        CASH_IN|5241.73|      0|[5241.73]|         0|\n",
      "|        CASH_IN|5627.86|      0|[5627.86]|         0|\n",
      "|        CASH_IN|6297.93|      0|[6297.93]|         0|\n",
      "|        CASH_IN|6730.26|      0|[6730.26]|         0|\n",
      "|        CASH_IN|7193.08|      0|[7193.08]|         0|\n",
      "|        CASH_IN|7493.19|      0|[7493.19]|         0|\n",
      "|        CASH_IN|8513.77|      0|[8513.77]|         0|\n",
      "+---------------+-------+-------+---------+----------+\n",
      "only showing top 20 rows\n",
      "\n"
     ]
    }
   ],
   "source": [
    "# Make a prediction\n",
    "predictions = model.transform(data)\n",
    "predictions.show()"
   ]
  },
  {
   "cell_type": "code",
   "execution_count": 33,
   "metadata": {},
   "outputs": [
    {
     "name": "stdout",
     "output_type": "stream",
     "text": [
      "Silhouette with squared euclidean distance = 0.979909302618393\n"
     ]
    }
   ],
   "source": [
    "# Evaluate clustering by computing Silhouette score\n",
    "evaluator = ClusteringEvaluator()\n",
    "\n",
    "silhouette = evaluator.evaluate(predictions)\n",
    "print(\"Silhouette with squared euclidean distance = \" + str(silhouette))"
   ]
  },
  {
   "cell_type": "code",
   "execution_count": 34,
   "metadata": {},
   "outputs": [
    {
     "name": "stdout",
     "output_type": "stream",
     "text": [
      "Cluster Centers: \n",
      "[155198.2371543]\n",
      "[22703689.4269483]\n",
      "[2797190.98391877]\n"
     ]
    }
   ],
   "source": [
    "centers = model.clusterCenters()\n",
    "print(\"Cluster Centers: \")\n",
    "for center in centers:\n",
    "    print(center)"
   ]
  },
  {
   "cell_type": "code",
   "execution_count": 35,
   "metadata": {},
   "outputs": [],
   "source": [
    "import pixiedust"
   ]
  },
  {
   "cell_type": "code",
   "execution_count": null,
   "metadata": {
    "pixiedust": {
     "displayParams": {
      "chartsize": "100",
      "clusterby": "isFraud",
      "handlerId": "barChart",
      "keyFields": "TransactionType",
      "legend": "true",
      "rendererId": "matplotlib",
      "timeseries": "false",
      "valueFields": "prediction"
     }
    }
   },
   "outputs": [
    {
     "data": {
      "text/html": [
       "<style type=\"text/css\">.pd_warning{display:none;}</style><div class=\"pd_warning\"><em>Hey, there's something awesome here! To see it, open this notebook outside GitHub, in a viewer like Jupyter</em></div>"
      ],
      "text/plain": [
       "<IPython.core.display.HTML object>"
      ]
     },
     "metadata": {
      "pixieapp_metadata": null
     },
     "output_type": "display_data"
    }
   ],
   "source": [
    "display(predictions)"
   ]
  },
  {
   "cell_type": "markdown",
   "metadata": {},
   "source": [
    "![cluster](image/chart.PNG)"
   ]
  },
  {
   "cell_type": "code",
   "execution_count": null,
   "metadata": {},
   "outputs": [],
   "source": []
  }
 ],
 "metadata": {
  "kernelspec": {
   "display_name": "Python 3",
   "language": "python",
   "name": "python3"
  },
  "language_info": {
   "codemirror_mode": {
    "name": "ipython",
    "version": 3
   },
   "file_extension": ".py",
   "mimetype": "text/x-python",
   "name": "python",
   "nbconvert_exporter": "python",
   "pygments_lexer": "ipython3",
   "version": "3.7.1"
  }
 },
 "nbformat": 4,
 "nbformat_minor": 2
}
