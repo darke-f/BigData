{
 "cells": [
  {
   "cell_type": "markdown",
   "metadata": {},
   "source": [
    "# Initializing Spark"
   ]
  },
  {
   "cell_type": "code",
   "execution_count": 5,
   "metadata": {},
   "outputs": [],
   "source": [
    "# Import findspark to read SPARK_HOME and HADOOP_HOME\n",
    "import findspark\n",
    "findspark.init()\n",
    "# Import required library\n",
    "from pyspark.sql import SparkSession\n",
    "\n",
    "# Create Spark Session\n",
    "spark = SparkSession.builder.appName(\"Simple data mining with Synthetic Financial Dataset\").getOrCreate()\n",
    "    "
   ]
  },
  {
   "cell_type": "code",
   "execution_count": 6,
   "metadata": {},
   "outputs": [
    {
     "name": "stdout",
     "output_type": "stream",
     "text": [
      "<pyspark.sql.session.SparkSession object at 0x000001A678767630>\n"
     ]
    }
   ],
   "source": [
    "# Print Spark object ID\n",
    "print(spark)"
   ]
  },
  {
   "cell_type": "markdown",
   "metadata": {},
   "source": [
    "# Loading Dataset "
   ]
  },
  {
   "cell_type": "markdown",
   "metadata": {},
   "source": [
    "The given dataset has a format of .dat and no headers. So before i load the dataset, first i convert it to a csv format and gave headers based on the dataset description"
   ]
  },
  {
   "cell_type": "code",
   "execution_count": 28,
   "metadata": {},
   "outputs": [],
   "source": [
    "df = spark.read.csv(\"D:\\Kuliah\\Smt6\\Big Data\\Tugas\\Tugas 4\\jester_ratings.csv\", header=True, inferSchema=True)"
   ]
  },
  {
   "cell_type": "code",
   "execution_count": 29,
   "metadata": {},
   "outputs": [
    {
     "name": "stdout",
     "output_type": "stream",
     "text": [
      "+------+------+------+\n",
      "|userId|jokeId|rating|\n",
      "+------+------+------+\n",
      "|     1|     5| 0.219|\n",
      "|     1|     7|-9.281|\n",
      "|     1|     8|-9.281|\n",
      "|     1|    13|-6.781|\n",
      "|     1|    15| 0.875|\n",
      "|     1|    16|-9.656|\n",
      "|     1|    17|-9.031|\n",
      "|     1|    18|-7.469|\n",
      "|     1|    19|-8.719|\n",
      "|     1|    20|-9.156|\n",
      "|     1|    21|-7.188|\n",
      "|     1|    22|-8.781|\n",
      "|     1|    23|-8.531|\n",
      "|     1|    24|-7.906|\n",
      "|     1|    25|-7.469|\n",
      "|     1|    89| 9.812|\n",
      "|     1|    50| 9.906|\n",
      "|     1|   102|  0.75|\n",
      "|     1|   103|  -5.0|\n",
      "|     1|   104| 2.938|\n",
      "+------+------+------+\n",
      "only showing top 20 rows\n",
      "\n"
     ]
    }
   ],
   "source": [
    "#Show Dataset\n",
    "\n",
    "df.show()"
   ]
  },
  {
   "cell_type": "code",
   "execution_count": 9,
   "metadata": {},
   "outputs": [
    {
     "data": {
      "text/plain": [
       "1761439"
      ]
     },
     "execution_count": 9,
     "metadata": {},
     "output_type": "execute_result"
    }
   ],
   "source": [
    "#Count how many rows in dataset\n",
    "\n",
    "df.count()"
   ]
  },
  {
   "cell_type": "code",
   "execution_count": 30,
   "metadata": {},
   "outputs": [
    {
     "data": {
      "text/plain": [
       "StructType(List(StructField(userId,IntegerType,true),StructField(jokeId,IntegerType,true),StructField(rating,DoubleType,true)))"
      ]
     },
     "execution_count": 30,
     "metadata": {},
     "output_type": "execute_result"
    }
   ],
   "source": [
    "#Show Dataset Schema\n",
    "\n",
    "df.schema"
   ]
  },
  {
   "cell_type": "markdown",
   "metadata": {},
   "source": [
    "# Recomender Model"
   ]
  },
  {
   "cell_type": "code",
   "execution_count": 11,
   "metadata": {},
   "outputs": [],
   "source": [
    "from pyspark.ml.evaluation import RegressionEvaluator\n",
    "from pyspark.ml.recommendation import ALS"
   ]
  },
  {
   "cell_type": "code",
   "execution_count": 32,
   "metadata": {},
   "outputs": [],
   "source": [
    "(training, test) = df.randomSplit([0.8, 0.2])\n",
    "\n",
    "# Build the recommendation model using ALS on the training data\n",
    "# Note we set cold start strategy to 'drop' to ensure we don't get NaN evaluation metrics\n",
    "als = ALS(maxIter=5, regParam=0.01, userCol=\"userId\", itemCol=\"jokeId\", ratingCol=\"rating\",\n",
    "          coldStartStrategy=\"drop\")\n",
    "model = als.fit(training)"
   ]
  },
  {
   "cell_type": "code",
   "execution_count": 33,
   "metadata": {},
   "outputs": [
    {
     "name": "stdout",
     "output_type": "stream",
     "text": [
      "Root-mean-square error = 4.544751221462755\n"
     ]
    }
   ],
   "source": [
    "# Evaluate the model by computing the RMSE on the test data\n",
    "predictions = model.transform(test)\n",
    "evaluator = RegressionEvaluator(metricName=\"rmse\", labelCol=\"rating\",\n",
    "                                predictionCol=\"prediction\")\n",
    "rmse = evaluator.evaluate(predictions)\n",
    "print(\"Root-mean-square error = \" + str(rmse))"
   ]
  },
  {
   "cell_type": "code",
   "execution_count": 34,
   "metadata": {},
   "outputs": [
    {
     "name": "stdout",
     "output_type": "stream",
     "text": [
      "+------+--------------------+\n",
      "|userId|     recommendations|\n",
      "+------+--------------------+\n",
      "|   148|[[52, 29.516022],...|\n",
      "|   463|[[80, 21.846846],...|\n",
      "|   471|[[80, 17.509552],...|\n",
      "|   496|[[86, 15.044545],...|\n",
      "|   833|[[100, 9.5948105]...|\n",
      "|  1088|[[71, 9.199725], ...|\n",
      "|  1238|[[31, 4.66116], [...|\n",
      "|  1342|[[83, 13.7630005]...|\n",
      "|  1580|[[80, 6.9020944],...|\n",
      "|  1591|[[135, 14.675354]...|\n",
      "|  1645|[[100, 24.258127]...|\n",
      "|  1829|[[43, 26.288832],...|\n",
      "|  1959|[[80, 32.162617],...|\n",
      "|  2142|[[80, 18.455503],...|\n",
      "|  2366|[[140, 8.488211],...|\n",
      "|  2659|[[71, 7.5537996],...|\n",
      "|  2866|[[100, 31.024834]...|\n",
      "|  3175|[[31, 8.550562], ...|\n",
      "|  3749|[[116, 37.991333]...|\n",
      "|  3794|[[43, 19.145561],...|\n",
      "+------+--------------------+\n",
      "only showing top 20 rows\n",
      "\n"
     ]
    }
   ],
   "source": [
    "# Generate top 10 movie recommendations for each user\n",
    "userRecs = model.recommendForAllUsers(10)\n",
    "userRecs.show()"
   ]
  },
  {
   "cell_type": "code",
   "execution_count": 35,
   "metadata": {},
   "outputs": [
    {
     "name": "stdout",
     "output_type": "stream",
     "text": [
      "+------+--------------------+\n",
      "|jokeId|     recommendations|\n",
      "+------+--------------------+\n",
      "|   148|[[3326, 20.734621...|\n",
      "|    31|[[4294, 59.342907...|\n",
      "|    85|[[61483, 27.85723...|\n",
      "|   137|[[61377, 22.53096...|\n",
      "|    65|[[8815, 26.413088...|\n",
      "|    53|[[3305, 20.111027...|\n",
      "|   133|[[57753, 18.95817...|\n",
      "|    78|[[45596, 18.98806...|\n",
      "|   108|[[8815, 15.663682...|\n",
      "|    34|[[3292, 23.899088...|\n",
      "|   101|[[59494, 30.35357...|\n",
      "|   115|[[59500, 41.50966...|\n",
      "|   126|[[51605, 17.99947...|\n",
      "|    81|[[53222, 37.68750...|\n",
      "|    28|[[3326, 24.297186...|\n",
      "|    76|[[8815, 21.54119]...|\n",
      "|    26|[[8815, 27.07493]...|\n",
      "|    27|[[867, 49.093037]...|\n",
      "|    44|[[52330, 33.64199...|\n",
      "|   103|[[59494, 33.89000...|\n",
      "+------+--------------------+\n",
      "only showing top 20 rows\n",
      "\n"
     ]
    }
   ],
   "source": [
    "# Generate top 10 user recommendations for each movie\n",
    "jokeRecs = model.recommendForAllItems(10)\n",
    "jokeRecs.show()"
   ]
  },
  {
   "cell_type": "code",
   "execution_count": 36,
   "metadata": {},
   "outputs": [
    {
     "name": "stdout",
     "output_type": "stream",
     "text": [
      "+------+--------------------+\n",
      "|userId|     recommendations|\n",
      "+------+--------------------+\n",
      "|   471|[[80, 17.509552],...|\n",
      "|   463|[[80, 21.846846],...|\n",
      "|   148|[[52, 29.516022],...|\n",
      "+------+--------------------+\n",
      "\n"
     ]
    }
   ],
   "source": [
    "# Generate top 10 movie recommendations for a specified set of users\n",
    "users = df.select(als.getUserCol()).distinct().limit(3)\n",
    "userSubsetRecs = model.recommendForUserSubset(users, 10)\n",
    "userSubsetRecs.show()"
   ]
  },
  {
   "cell_type": "code",
   "execution_count": 37,
   "metadata": {},
   "outputs": [
    {
     "name": "stdout",
     "output_type": "stream",
     "text": [
      "+------+--------------------+\n",
      "|jokeId|     recommendations|\n",
      "+------+--------------------+\n",
      "|   148|[[3326, 20.734621...|\n",
      "|    31|[[4294, 59.342907...|\n",
      "|    85|[[61483, 27.85723...|\n",
      "+------+--------------------+\n",
      "\n"
     ]
    }
   ],
   "source": [
    "# Generate top 10 user recommendations for a specified set of movies\n",
    "jokes = df.select(als.getItemCol()).distinct().limit(3)\n",
    "jokeSubSetRecs = model.recommendForItemSubset(jokes, 10)\n",
    "jokeSubSetRecs.show()"
   ]
  }
 ],
 "metadata": {
  "kernelspec": {
   "display_name": "Python 3",
   "language": "python",
   "name": "python3"
  },
  "language_info": {
   "codemirror_mode": {
    "name": "ipython",
    "version": 3
   },
   "file_extension": ".py",
   "mimetype": "text/x-python",
   "name": "python",
   "nbconvert_exporter": "python",
   "pygments_lexer": "ipython3",
   "version": "3.7.1"
  }
 },
 "nbformat": 4,
 "nbformat_minor": 2
}
