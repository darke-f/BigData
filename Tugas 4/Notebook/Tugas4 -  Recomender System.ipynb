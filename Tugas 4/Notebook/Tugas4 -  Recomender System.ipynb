{
 "cells": [
  {
   "cell_type": "markdown",
   "metadata": {},
   "source": [
    "# Initializing Spark"
   ]
  },
  {
   "cell_type": "code",
   "execution_count": 5,
   "metadata": {},
   "outputs": [],
   "source": [
    "# Import findspark to read SPARK_HOME and HADOOP_HOME\n",
    "import findspark\n",
    "findspark.init()\n",
    "# Import required library\n",
    "from pyspark.sql import SparkSession\n",
    "\n",
    "# Create Spark Session\n",
    "spark = SparkSession.builder.appName(\"Simple data mining with Synthetic Financial Dataset\").getOrCreate()\n",
    "    "
   ]
  },
  {
   "cell_type": "code",
   "execution_count": 6,
   "metadata": {},
   "outputs": [
    {
     "name": "stdout",
     "output_type": "stream",
     "text": [
      "<pyspark.sql.session.SparkSession object at 0x000001A678767630>\n"
     ]
    }
   ],
   "source": [
    "# Print Spark object ID\n",
    "print(spark)"
   ]
  },
  {
   "cell_type": "markdown",
   "metadata": {},
   "source": [
    "# Loading Dataset "
   ]
  },
  {
   "cell_type": "markdown",
   "metadata": {},
   "source": [
    "The given dataset has a format of .dat and no headers. So before i load the dataset, first i convert it to a csv format and gave headers based on the dataset description"
   ]
  },
  {
   "cell_type": "code",
   "execution_count": 7,
   "metadata": {},
   "outputs": [],
   "source": [
    "df = spark.read.csv(\"D:\\Kuliah\\Smt6\\Big Data\\Tugas\\Tugas 4\\jester_ratings.csv\", header=True, inferSchema=True)"
   ]
  },
  {
   "cell_type": "code",
   "execution_count": 8,
   "metadata": {},
   "outputs": [
    {
     "name": "stdout",
     "output_type": "stream",
     "text": [
      "+------+------+------+\n",
      "|UserID|ItemID|Rating|\n",
      "+------+------+------+\n",
      "|     1|     5| 0.219|\n",
      "|     1|     7|-9.281|\n",
      "|     1|     8|-9.281|\n",
      "|     1|    13|-6.781|\n",
      "|     1|    15| 0.875|\n",
      "|     1|    16|-9.656|\n",
      "|     1|    17|-9.031|\n",
      "|     1|    18|-7.469|\n",
      "|     1|    19|-8.719|\n",
      "|     1|    20|-9.156|\n",
      "|     1|    21|-7.188|\n",
      "|     1|    22|-8.781|\n",
      "|     1|    23|-8.531|\n",
      "|     1|    24|-7.906|\n",
      "|     1|    25|-7.469|\n",
      "|     1|    89| 9.812|\n",
      "|     1|    50| 9.906|\n",
      "|     1|   102|  0.75|\n",
      "|     1|   103|  -5.0|\n",
      "|     1|   104| 2.938|\n",
      "+------+------+------+\n",
      "only showing top 20 rows\n",
      "\n"
     ]
    }
   ],
   "source": [
    "#Show Dataset\n",
    "\n",
    "df.show()"
   ]
  },
  {
   "cell_type": "code",
   "execution_count": 9,
   "metadata": {},
   "outputs": [
    {
     "data": {
      "text/plain": [
       "1761439"
      ]
     },
     "execution_count": 9,
     "metadata": {},
     "output_type": "execute_result"
    }
   ],
   "source": [
    "#Count how many rows in dataset\n",
    "\n",
    "df.count()"
   ]
  },
  {
   "cell_type": "code",
   "execution_count": 10,
   "metadata": {},
   "outputs": [
    {
     "data": {
      "text/plain": [
       "StructType(List(StructField(UserID,IntegerType,true),StructField(ItemID,IntegerType,true),StructField(Rating,DoubleType,true)))"
      ]
     },
     "execution_count": 10,
     "metadata": {},
     "output_type": "execute_result"
    }
   ],
   "source": [
    "#Show Dataset Schema\n",
    "\n",
    "df.schema"
   ]
  },
  {
   "cell_type": "markdown",
   "metadata": {},
   "source": [
    "# Recomender Model"
   ]
  },
  {
   "cell_type": "code",
   "execution_count": 11,
   "metadata": {},
   "outputs": [],
   "source": [
    "from pyspark.ml.evaluation import RegressionEvaluator\n",
    "from pyspark.ml.recommendation import ALS"
   ]
  },
  {
   "cell_type": "code",
   "execution_count": 14,
   "metadata": {},
   "outputs": [],
   "source": [
    "(training, test) = df.randomSplit([0.8, 0.2])\n",
    "\n",
    "# Build the recommendation model using ALS on the training data\n",
    "# Note we set cold start strategy to 'drop' to ensure we don't get NaN evaluation metrics\n",
    "als = ALS(maxIter=5, regParam=0.01, userCol=\"UserID\", itemCol=\"ItemID\", ratingCol=\"Rating\",\n",
    "          coldStartStrategy=\"drop\")\n",
    "model = als.fit(training)"
   ]
  },
  {
   "cell_type": "code",
   "execution_count": 17,
   "metadata": {},
   "outputs": [
    {
     "name": "stdout",
     "output_type": "stream",
     "text": [
      "Root-mean-square error = 4.532665840698821\n"
     ]
    }
   ],
   "source": [
    "# Evaluate the model by computing the RMSE on the test data\n",
    "predictions = model.transform(test)\n",
    "evaluator = RegressionEvaluator(metricName=\"rmse\", labelCol=\"Rating\",\n",
    "                                predictionCol=\"prediction\")\n",
    "rmse = evaluator.evaluate(predictions)\n",
    "print(\"Root-mean-square error = \" + str(rmse))"
   ]
  },
  {
   "cell_type": "code",
   "execution_count": 18,
   "metadata": {},
   "outputs": [
    {
     "name": "stdout",
     "output_type": "stream",
     "text": [
      "+------+--------------------+\n",
      "|UserID|     recommendations|\n",
      "+------+--------------------+\n",
      "|   148|[[116, 42.288284]...|\n",
      "|   463|[[51, 37.017757],...|\n",
      "|   471|[[31, 15.354328],...|\n",
      "|   496|[[124, 16.072704]...|\n",
      "|   833|[[52, 13.816869],...|\n",
      "|  1088|[[52, 8.294235], ...|\n",
      "|  1238|[[27, 7.6120276],...|\n",
      "|  1342|[[120, 13.683072]...|\n",
      "|  1580|[[20, 3.8503761],...|\n",
      "|  1591|[[115, 12.142138]...|\n",
      "|  1645|[[27, 4.1528196],...|\n",
      "|  1829|[[5, 15.542175], ...|\n",
      "|  1959|[[71, 28.089771],...|\n",
      "|  2142|[[140, 13.44206],...|\n",
      "|  2366|[[60, 4.511176], ...|\n",
      "|  2659|[[121, 7.565319],...|\n",
      "|  2866|[[25, 10.344862],...|\n",
      "|  3175|[[89, 5.9849987],...|\n",
      "|  3749|[[43, 14.191393],...|\n",
      "|  3794|[[116, 12.546617]...|\n",
      "+------+--------------------+\n",
      "only showing top 20 rows\n",
      "\n"
     ]
    }
   ],
   "source": [
    "# Generate top 10 movie recommendations for each user\n",
    "userRecs = model.recommendForAllUsers(10)\n",
    "userRecs.show()"
   ]
  },
  {
   "cell_type": "code",
   "execution_count": 20,
   "metadata": {},
   "outputs": [
    {
     "name": "stdout",
     "output_type": "stream",
     "text": [
      "+------+--------------------+\n",
      "|ItemID|     recommendations|\n",
      "+------+--------------------+\n",
      "|   148|[[47876, 18.26961...|\n",
      "|    31|[[58308, 37.98753...|\n",
      "|    85|[[5662, 28.845434...|\n",
      "|   137|[[28670, 16.21480...|\n",
      "|    65|[[32602, 27.56709...|\n",
      "|    53|[[6709, 19.833162...|\n",
      "|   133|[[6669, 21.238832...|\n",
      "|    78|[[7044, 24.031685...|\n",
      "|   108|[[58141, 14.64467...|\n",
      "|    34|[[1380, 25.779966...|\n",
      "|   101|[[4809, 33.645332...|\n",
      "|   115|[[20817, 34.09015...|\n",
      "|   126|[[58141, 19.95779...|\n",
      "|    81|[[25651, 27.24469...|\n",
      "|    28|[[20607, 24.56235...|\n",
      "|    76|[[47876, 14.89076...|\n",
      "|    26|[[32602, 21.05184...|\n",
      "|    27|[[48175, 52.7454]...|\n",
      "|    44|[[4809, 37.000523...|\n",
      "|   103|[[4809, 30.195704...|\n",
      "+------+--------------------+\n",
      "only showing top 20 rows\n",
      "\n"
     ]
    }
   ],
   "source": [
    "# Generate top 10 user recommendations for each movie\n",
    "jokeRecs = model.recommendForAllItems(10)\n",
    "jokeRecs.show()"
   ]
  },
  {
   "cell_type": "code",
   "execution_count": 24,
   "metadata": {},
   "outputs": [
    {
     "name": "stdout",
     "output_type": "stream",
     "text": [
      "+------+--------------------+\n",
      "|UserID|     recommendations|\n",
      "+------+--------------------+\n",
      "|   471|[[31, 15.354328],...|\n",
      "|   463|[[51, 37.017757],...|\n",
      "|   148|[[116, 42.288284]...|\n",
      "+------+--------------------+\n",
      "\n"
     ]
    }
   ],
   "source": [
    "# Generate top 10 movie recommendations for a specified set of users\n",
    "users = df.select(als.getUserCol()).distinct().limit(3)\n",
    "userSubsetRecs = model.recommendForUserSubset(users, 10)\n",
    "userSubsetRecs.show()"
   ]
  },
  {
   "cell_type": "code",
   "execution_count": 27,
   "metadata": {},
   "outputs": [
    {
     "name": "stdout",
     "output_type": "stream",
     "text": [
      "+------+--------------------+\n",
      "|ItemID|     recommendations|\n",
      "+------+--------------------+\n",
      "|   148|[[47876, 18.26961...|\n",
      "|    31|[[58308, 37.98753...|\n",
      "|    85|[[5662, 28.845434...|\n",
      "+------+--------------------+\n",
      "\n"
     ]
    }
   ],
   "source": [
    "# Generate top 10 user recommendations for a specified set of movies\n",
    "jokes = df.select(als.getItemCol()).distinct().limit(3)\n",
    "jokeSubSetRecs = model.recommendForItemSubset(jokes, 10)\n",
    "jokeSubSetRecs.show()"
   ]
  }
 ],
 "metadata": {
  "kernelspec": {
   "display_name": "Python 3",
   "language": "python",
   "name": "python3"
  },
  "language_info": {
   "codemirror_mode": {
    "name": "ipython",
    "version": 3
   },
   "file_extension": ".py",
   "mimetype": "text/x-python",
   "name": "python",
   "nbconvert_exporter": "python",
   "pygments_lexer": "ipython3",
   "version": "3.7.1"
  }
 },
 "nbformat": 4,
 "nbformat_minor": 2
}
