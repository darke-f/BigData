{
 "cells": [
  {
   "cell_type": "markdown",
   "metadata": {},
   "source": [
    "# Initializing Spark"
   ]
  },
  {
   "cell_type": "code",
   "execution_count": 1,
   "metadata": {},
   "outputs": [],
   "source": [
    "# Import findspark to read SPARK_HOME and HADOOP_HOME\n",
    "import findspark\n",
    "findspark.init()\n",
    "# Import required library\n",
    "from pyspark.sql import SparkSession\n",
    "\n",
    "# Create Spark Session\n",
    "spark = SparkSession.builder.appName(\"Simple data mining with Synthetic Financial Dataset\").getOrCreate()\n",
    "    "
   ]
  },
  {
   "cell_type": "code",
   "execution_count": 2,
   "metadata": {},
   "outputs": [
    {
     "name": "stdout",
     "output_type": "stream",
     "text": [
      "<pyspark.sql.session.SparkSession object at 0x00000208441EB4A8>\n"
     ]
    }
   ],
   "source": [
    "# Print Spark object ID\n",
    "print(spark)"
   ]
  },
  {
   "cell_type": "markdown",
   "metadata": {},
   "source": [
    "# Loading Dataset "
   ]
  },
  {
   "cell_type": "code",
   "execution_count": 2,
   "metadata": {},
   "outputs": [],
   "source": [
    "df = spark.read.csv(\"D:\\Kuliah\\Smt6\\Big Data\\Tugas\\data.csv\", header=True, inferSchema=True)"
   ]
  },
  {
   "cell_type": "code",
   "execution_count": 4,
   "metadata": {},
   "outputs": [
    {
     "name": "stdout",
     "output_type": "stream",
     "text": [
      "+---------+---------+--------------------+--------+--------------+---------+----------+--------------+\n",
      "|InvoiceNo|StockCode|         Description|Quantity|   InvoiceDate|UnitPrice|CustomerID|       Country|\n",
      "+---------+---------+--------------------+--------+--------------+---------+----------+--------------+\n",
      "|   536365|   85123A|WHITE HANGING HEA...|       6|12/1/2010 8:26|     2.55|     17850|United Kingdom|\n",
      "|   536365|    71053| WHITE METAL LANTERN|       6|12/1/2010 8:26|     3.39|     17850|United Kingdom|\n",
      "|   536365|   84406B|CREAM CUPID HEART...|       8|12/1/2010 8:26|     2.75|     17850|United Kingdom|\n",
      "|   536365|   84029G|KNITTED UNION FLA...|       6|12/1/2010 8:26|     3.39|     17850|United Kingdom|\n",
      "|   536365|   84029E|RED WOOLLY HOTTIE...|       6|12/1/2010 8:26|     3.39|     17850|United Kingdom|\n",
      "|   536365|    22752|SET 7 BABUSHKA NE...|       2|12/1/2010 8:26|     7.65|     17850|United Kingdom|\n",
      "|   536365|    21730|GLASS STAR FROSTE...|       6|12/1/2010 8:26|     4.25|     17850|United Kingdom|\n",
      "|   536366|    22633|HAND WARMER UNION...|       6|12/1/2010 8:28|     1.85|     17850|United Kingdom|\n",
      "|   536366|    22632|HAND WARMER RED P...|       6|12/1/2010 8:28|     1.85|     17850|United Kingdom|\n",
      "|   536367|    84879|ASSORTED COLOUR B...|      32|12/1/2010 8:34|     1.69|     13047|United Kingdom|\n",
      "|   536367|    22745|POPPY'S PLAYHOUSE...|       6|12/1/2010 8:34|      2.1|     13047|United Kingdom|\n",
      "|   536367|    22748|POPPY'S PLAYHOUSE...|       6|12/1/2010 8:34|      2.1|     13047|United Kingdom|\n",
      "|   536367|    22749|FELTCRAFT PRINCES...|       8|12/1/2010 8:34|     3.75|     13047|United Kingdom|\n",
      "|   536367|    22310|IVORY KNITTED MUG...|       6|12/1/2010 8:34|     1.65|     13047|United Kingdom|\n",
      "|   536367|    84969|BOX OF 6 ASSORTED...|       6|12/1/2010 8:34|     4.25|     13047|United Kingdom|\n",
      "|   536367|    22623|BOX OF VINTAGE JI...|       3|12/1/2010 8:34|     4.95|     13047|United Kingdom|\n",
      "|   536367|    22622|BOX OF VINTAGE AL...|       2|12/1/2010 8:34|     9.95|     13047|United Kingdom|\n",
      "|   536367|    21754|HOME BUILDING BLO...|       3|12/1/2010 8:34|     5.95|     13047|United Kingdom|\n",
      "|   536367|    21755|LOVE BUILDING BLO...|       3|12/1/2010 8:34|     5.95|     13047|United Kingdom|\n",
      "|   536367|    21777|RECIPE BOX WITH M...|       4|12/1/2010 8:34|     7.95|     13047|United Kingdom|\n",
      "+---------+---------+--------------------+--------+--------------+---------+----------+--------------+\n",
      "only showing top 20 rows\n",
      "\n"
     ]
    }
   ],
   "source": [
    "#Show Dataset\n",
    "\n",
    "df.show()"
   ]
  },
  {
   "cell_type": "code",
   "execution_count": 5,
   "metadata": {},
   "outputs": [
    {
     "data": {
      "text/plain": [
       "541909"
      ]
     },
     "execution_count": 5,
     "metadata": {},
     "output_type": "execute_result"
    }
   ],
   "source": [
    "#Count how many rows in dataset\n",
    "\n",
    "df.count()"
   ]
  },
  {
   "cell_type": "code",
   "execution_count": 6,
   "metadata": {},
   "outputs": [
    {
     "data": {
      "text/plain": [
       "StructType(List(StructField(InvoiceNo,StringType,true),StructField(StockCode,StringType,true),StructField(Description,StringType,true),StructField(Quantity,IntegerType,true),StructField(InvoiceDate,StringType,true),StructField(UnitPrice,DoubleType,true),StructField(CustomerID,IntegerType,true),StructField(Country,StringType,true)))"
      ]
     },
     "execution_count": 6,
     "metadata": {},
     "output_type": "execute_result"
    }
   ],
   "source": [
    "#Show Dataset Schema\n",
    "\n",
    "df.schema"
   ]
  },
  {
   "cell_type": "code",
   "execution_count": 3,
   "metadata": {},
   "outputs": [],
   "source": [
    "#Look at the grouping of invoice with stock and description\n",
    "\n",
    "data = df[['InvoiceNo','StockCode','Description']]"
   ]
  },
  {
   "cell_type": "code",
   "execution_count": 6,
   "metadata": {},
   "outputs": [
    {
     "name": "stdout",
     "output_type": "stream",
     "text": [
      "+---------+---------+--------------------+\n",
      "|InvoiceNo|StockCode|         Description|\n",
      "+---------+---------+--------------------+\n",
      "|   536365|   85123A|WHITE HANGING HEA...|\n",
      "|   536365|    71053| WHITE METAL LANTERN|\n",
      "|   536365|   84406B|CREAM CUPID HEART...|\n",
      "|   536365|   84029G|KNITTED UNION FLA...|\n",
      "|   536365|   84029E|RED WOOLLY HOTTIE...|\n",
      "|   536365|    22752|SET 7 BABUSHKA NE...|\n",
      "|   536365|    21730|GLASS STAR FROSTE...|\n",
      "|   536366|    22633|HAND WARMER UNION...|\n",
      "|   536366|    22632|HAND WARMER RED P...|\n",
      "|   536367|    84879|ASSORTED COLOUR B...|\n",
      "|   536367|    22745|POPPY'S PLAYHOUSE...|\n",
      "|   536367|    22748|POPPY'S PLAYHOUSE...|\n",
      "|   536367|    22749|FELTCRAFT PRINCES...|\n",
      "|   536367|    22310|IVORY KNITTED MUG...|\n",
      "|   536367|    84969|BOX OF 6 ASSORTED...|\n",
      "|   536367|    22623|BOX OF VINTAGE JI...|\n",
      "|   536367|    22622|BOX OF VINTAGE AL...|\n",
      "|   536367|    21754|HOME BUILDING BLO...|\n",
      "|   536367|    21755|LOVE BUILDING BLO...|\n",
      "|   536367|    21777|RECIPE BOX WITH M...|\n",
      "+---------+---------+--------------------+\n",
      "only showing top 20 rows\n",
      "\n"
     ]
    }
   ],
   "source": [
    "data.show()"
   ]
  },
  {
   "cell_type": "markdown",
   "metadata": {
    "collapsed": true
   },
   "source": [
    "# Group Data by Invoice Number"
   ]
  },
  {
   "cell_type": "code",
   "execution_count": 4,
   "metadata": {},
   "outputs": [],
   "source": [
    "from pyspark.sql.functions import collect_list\n",
    "new_data = data.groupby(\"InvoiceNo\").agg(collect_list('StockCode').alias('StockCode'))"
   ]
  },
  {
   "cell_type": "code",
   "execution_count": 7,
   "metadata": {},
   "outputs": [
    {
     "name": "stdout",
     "output_type": "stream",
     "text": [
      "+---------+--------------------+\n",
      "|InvoiceNo|           StockCode|\n",
      "+---------+--------------------+\n",
      "|   536596|[21624, 22900, 22...|\n",
      "|   536938|[22386, 85099C, 2...|\n",
      "|   537252|             [22197]|\n",
      "|   537691|[22791, 22171, 82...|\n",
      "|   538041|             [22145]|\n",
      "|   538184|[22585, 21481, 22...|\n",
      "|   538517|[22491, 21232, 21...|\n",
      "|   538879|[84819, 22150, 21...|\n",
      "|   539275|[22909, 22423, 22...|\n",
      "|   539630|[21484, 85099B, 2...|\n",
      "|   540499|[21868, 22697, 22...|\n",
      "|   540540|[21877, 21868, 21...|\n",
      "|   540976|[22394, 21890, 22...|\n",
      "|   541432|[21485, 22457, 84...|\n",
      "|   541518|[21880, 21881, 21...|\n",
      "|   541783|[22423, 22854, 22...|\n",
      "|   542026|[21754, 82600, 22...|\n",
      "|   542375|[21731, 22367, 22...|\n",
      "|  C540850|             [21231]|\n",
      "|   543641|[85123A, 21833, 2...|\n",
      "+---------+--------------------+\n",
      "only showing top 20 rows\n",
      "\n"
     ]
    }
   ],
   "source": [
    "new_data.show()"
   ]
  },
  {
   "cell_type": "code",
   "execution_count": 5,
   "metadata": {},
   "outputs": [],
   "source": [
    "#Remove duplicates data using udf function \n",
    "from pyspark.sql.functions import udf\n",
    "from pyspark.sql.types import ArrayType, StringType\n",
    "\n",
    "remove_dupes = udf(lambda row: list(set(row)), ArrayType(StringType()))\n",
    "new_data = new_data.withColumn(\"remove_dupes\", remove_dupes(\"StockCode\"))"
   ]
  },
  {
   "cell_type": "code",
   "execution_count": 9,
   "metadata": {},
   "outputs": [
    {
     "name": "stdout",
     "output_type": "stream",
     "text": [
      "+---------+--------------------+--------------------+\n",
      "|InvoiceNo|           StockCode|        remove_dupes|\n",
      "+---------+--------------------+--------------------+\n",
      "|   536596|[21624, 22900, 22...|[84926A, 21624, 2...|\n",
      "|   536938|[22386, 85099C, 2...|[21479, 84997B, 2...|\n",
      "|   537252|             [22197]|             [22197]|\n",
      "|   537691|[22791, 22171, 82...|[22505, 22791, 82...|\n",
      "|   538041|             [22145]|             [22145]|\n",
      "|   538184|[22585, 21481, 22...|[22492, 22561, 48...|\n",
      "|   538517|[22491, 21232, 21...|[22197, 22844, 22...|\n",
      "|   538879|[84819, 22150, 21...|[22130, 22555, 84...|\n",
      "|   539275|[22909, 22423, 22...|[22423, 21914, 22...|\n",
      "|   539630|[21484, 85099B, 2...|[22988, 84347, 22...|\n",
      "|   540499|[21868, 22697, 22...|[21755, 84978, 22...|\n",
      "|   540540|[21877, 21868, 21...|[22555, 22551, 22...|\n",
      "|   540976|[22394, 21890, 22...|[22207, 21110, 84...|\n",
      "|   541432|[21485, 22457, 84...|[22113, 22457, 21...|\n",
      "|   541518|[21880, 21881, 21...|[20724, 21982, 20...|\n",
      "|   541783|[22423, 22854, 22...|[22197, 84978, 22...|\n",
      "|   542026|[21754, 82600, 22...|[22197, 22398, 22...|\n",
      "|   542375|[21731, 22367, 22...|[22367, 22629, 21...|\n",
      "|  C540850|             [21231]|             [21231]|\n",
      "|   543641|[85123A, 21833, 2...|[22371, 44265, 21...|\n",
      "+---------+--------------------+--------------------+\n",
      "only showing top 20 rows\n",
      "\n"
     ]
    }
   ],
   "source": [
    "new_data.show()"
   ]
  },
  {
   "cell_type": "markdown",
   "metadata": {},
   "source": [
    "# FP Tree Algorithm"
   ]
  },
  {
   "cell_type": "code",
   "execution_count": 6,
   "metadata": {},
   "outputs": [],
   "source": [
    "from pyspark.ml.fpm import FPGrowth"
   ]
  },
  {
   "cell_type": "markdown",
   "metadata": {},
   "source": [
    "## Test model using a large support and confindence"
   ]
  },
  {
   "cell_type": "code",
   "execution_count": 7,
   "metadata": {},
   "outputs": [],
   "source": [
    "fpGrowth = FPGrowth(itemsCol=\"remove_dupes\", minSupport=0.05, minConfidence=0.08)\n",
    "model = fpGrowth.fit(new_data)"
   ]
  },
  {
   "cell_type": "code",
   "execution_count": 15,
   "metadata": {},
   "outputs": [
    {
     "name": "stdout",
     "output_type": "stream",
     "text": [
      "+--------+----+\n",
      "|   items|freq|\n",
      "+--------+----+\n",
      "|[85123A]|2246|\n",
      "| [22423]|2172|\n",
      "|[85099B]|2135|\n",
      "| [47566]|1706|\n",
      "| [20725]|1608|\n",
      "| [84879]|1468|\n",
      "| [22720]|1462|\n",
      "| [22197]|1442|\n",
      "| [21212]|1334|\n",
      "| [22383]|1306|\n",
      "| [20727]|1295|\n",
      "+--------+----+\n",
      "\n"
     ]
    }
   ],
   "source": [
    "model.freqItemsets.show()"
   ]
  },
  {
   "cell_type": "code",
   "execution_count": 17,
   "metadata": {
    "pixiedust": {
     "displayParams": {
      "chartsize": "100",
      "clusterby": "isFraud",
      "handlerId": "barChart",
      "keyFields": "TransactionType",
      "legend": "true",
      "rendererId": "matplotlib",
      "timeseries": "false",
      "valueFields": "prediction"
     }
    }
   },
   "outputs": [
    {
     "name": "stdout",
     "output_type": "stream",
     "text": [
      "+----------+----------+----------+\n",
      "|antecedent|consequent|confidence|\n",
      "+----------+----------+----------+\n",
      "+----------+----------+----------+\n",
      "\n"
     ]
    }
   ],
   "source": [
    "model.associationRules.show()"
   ]
  },
  {
   "cell_type": "markdown",
   "metadata": {},
   "source": [
    "# Test model using a medium support and confindence"
   ]
  },
  {
   "cell_type": "code",
   "execution_count": 16,
   "metadata": {},
   "outputs": [],
   "source": [
    "fpGrowth2 = FPGrowth(itemsCol=\"remove_dupes\", minSupport=0.04, minConfidence=0.06)\n",
    "model2 = fpGrowth2.fit(new_data)"
   ]
  },
  {
   "cell_type": "code",
   "execution_count": 18,
   "metadata": {},
   "outputs": [
    {
     "name": "stdout",
     "output_type": "stream",
     "text": [
      "+--------+----+\n",
      "|   items|freq|\n",
      "+--------+----+\n",
      "|[85123A]|2246|\n",
      "| [22423]|2172|\n",
      "|[85099B]|2135|\n",
      "| [47566]|1706|\n",
      "| [20725]|1608|\n",
      "| [84879]|1468|\n",
      "| [22720]|1462|\n",
      "| [22197]|1442|\n",
      "| [21212]|1334|\n",
      "| [22383]|1306|\n",
      "| [20727]|1295|\n",
      "| [22457]|1266|\n",
      "|  [POST]|1254|\n",
      "| [23203]|1249|\n",
      "| [22386]|1231|\n",
      "| [22960]|1220|\n",
      "| [22469]|1214|\n",
      "| [21931]|1201|\n",
      "| [22411]|1187|\n",
      "| [22961]|1174|\n",
      "+--------+----+\n",
      "only showing top 20 rows\n",
      "\n"
     ]
    }
   ],
   "source": [
    "model2.freqItemsets.show()"
   ]
  },
  {
   "cell_type": "code",
   "execution_count": 19,
   "metadata": {},
   "outputs": [
    {
     "name": "stdout",
     "output_type": "stream",
     "text": [
      "+----------+----------+----------+\n",
      "|antecedent|consequent|confidence|\n",
      "+----------+----------+----------+\n",
      "+----------+----------+----------+\n",
      "\n"
     ]
    }
   ],
   "source": [
    "model2.associationRules.show()"
   ]
  },
  {
   "cell_type": "markdown",
   "metadata": {},
   "source": [
    "# Test model using a small support and confindence"
   ]
  },
  {
   "cell_type": "code",
   "execution_count": 8,
   "metadata": {},
   "outputs": [],
   "source": [
    "fpGrowth3 = FPGrowth(itemsCol=\"remove_dupes\", minSupport=0.02, minConfidence=0.03)\n",
    "model3 = fpGrowth3.fit(new_data)"
   ]
  },
  {
   "cell_type": "code",
   "execution_count": 9,
   "metadata": {},
   "outputs": [
    {
     "name": "stdout",
     "output_type": "stream",
     "text": [
      "+---------------+----+\n",
      "|          items|freq|\n",
      "+---------------+----+\n",
      "|       [85123A]|2246|\n",
      "|        [22423]|2172|\n",
      "|       [85099B]|2135|\n",
      "|        [47566]|1706|\n",
      "|        [20725]|1608|\n",
      "|[20725, 85099B]| 588|\n",
      "|        [84879]|1468|\n",
      "|        [22720]|1462|\n",
      "|        [22197]|1442|\n",
      "|        [21212]|1334|\n",
      "|        [22383]|1306|\n",
      "| [22383, 20725]| 663|\n",
      "|        [20727]|1295|\n",
      "| [20727, 20725]| 648|\n",
      "| [20727, 22383]| 587|\n",
      "|        [22457]|1266|\n",
      "|         [POST]|1254|\n",
      "|        [23203]|1249|\n",
      "|[23203, 85099B]| 582|\n",
      "|        [22386]|1231|\n",
      "+---------------+----+\n",
      "only showing top 20 rows\n",
      "\n"
     ]
    }
   ],
   "source": [
    "model3.freqItemsets.show()"
   ]
  },
  {
   "cell_type": "code",
   "execution_count": 10,
   "metadata": {},
   "outputs": [
    {
     "name": "stdout",
     "output_type": "stream",
     "text": [
      "+----------+----------+-------------------+\n",
      "|antecedent|consequent|         confidence|\n",
      "+----------+----------+-------------------+\n",
      "|   [22699]|   [22423]|0.47946428571428573|\n",
      "|   [22699]|   [22697]|                0.7|\n",
      "|   [22699]|   [22698]| 0.5482142857142858|\n",
      "|   [22386]|  [85099B]| 0.6766856214459789|\n",
      "|   [22386]|   [21931]| 0.4207961007311129|\n",
      "|   [20727]|   [20725]| 0.5003861003861004|\n",
      "|   [20727]|   [22383]| 0.4532818532818533|\n",
      "|   [20727]|   [20728]| 0.4061776061776062|\n",
      "|   [20727]|   [22384]| 0.4223938223938224|\n",
      "|   [22382]|   [20725]| 0.4811965811965812|\n",
      "|   [22382]|   [22383]|0.45897435897435895|\n",
      "|   [20725]|  [85099B]| 0.3656716417910448|\n",
      "|   [20725]|   [22383]| 0.4123134328358209|\n",
      "|   [20725]|   [20727]|0.40298507462686567|\n",
      "|   [20725]|   [20728]|0.34950248756218905|\n",
      "|   [20725]|   [22382]|0.35012437810945274|\n",
      "|   [20725]|   [22384]| 0.3812189054726368|\n",
      "|   [20725]|   [20726]| 0.3308457711442786|\n",
      "|   [22384]|   [20725]| 0.5522522522522523|\n",
      "|   [22384]|   [20727]| 0.4927927927927928|\n",
      "+----------+----------+-------------------+\n",
      "only showing top 20 rows\n",
      "\n"
     ]
    }
   ],
   "source": [
    "model3.associationRules.show()"
   ]
  },
  {
   "cell_type": "code",
   "execution_count": 12,
   "metadata": {},
   "outputs": [
    {
     "name": "stdout",
     "output_type": "stream",
     "text": [
      "+---------+--------------------+--------------------+--------------------+\n",
      "|InvoiceNo|           StockCode|        remove_dupes|          prediction|\n",
      "+---------+--------------------+--------------------+--------------------+\n",
      "|   536596|[21624, 22900, 22...|[84926A, 21624, 2...|                  []|\n",
      "|   536938|[22386, 85099C, 2...|[21479, 84997B, 2...|     [85099B, 22411]|\n",
      "|   537252|             [22197]|             [22197]|                  []|\n",
      "|   537691|[22791, 22171, 82...|[22505, 22791, 82...|                  []|\n",
      "|   538041|             [22145]|             [22145]|                  []|\n",
      "|   538184|[22585, 21481, 22...|[22492, 22561, 48...|                  []|\n",
      "|   538517|[22491, 21232, 21...|[22197, 22844, 22...|                  []|\n",
      "|   538879|[84819, 22150, 21...|[22130, 22555, 84...|                  []|\n",
      "|   539275|[22909, 22423, 22...|[22423, 21914, 22...|      [22699, 22697]|\n",
      "|   539630|[21484, 85099B, 2...|[22988, 84347, 22...|[20725, 23203, 22...|\n",
      "|   540499|[21868, 22697, 22...|[21755, 84978, 22...|      [22698, 20724]|\n",
      "|   540540|[21877, 21868, 21...|[22555, 22551, 22...|                  []|\n",
      "|   540976|[22394, 21890, 22...|[22207, 21110, 84...|             [22356]|\n",
      "|   541432|[21485, 22457, 84...|[22113, 22457, 21...|                  []|\n",
      "|   541518|[21880, 21881, 21...|[20724, 21982, 20...|[22356, 20725, 23...|\n",
      "|   541783|[22423, 22854, 22...|[22197, 84978, 22...|             [22698]|\n",
      "|   542026|[21754, 82600, 22...|[22197, 22398, 22...|                  []|\n",
      "|   542375|[21731, 22367, 22...|[22367, 22629, 21...|             [22630]|\n",
      "|  C540850|             [21231]|             [21231]|                  []|\n",
      "|   543641|[85123A, 21833, 2...|[22371, 44265, 21...|                  []|\n",
      "+---------+--------------------+--------------------+--------------------+\n",
      "only showing top 20 rows\n",
      "\n"
     ]
    }
   ],
   "source": [
    "model3.transform(new_data).show()"
   ]
  },
  {
   "cell_type": "code",
   "execution_count": 15,
   "metadata": {},
   "outputs": [],
   "source": [
    "#Get example of items and put it into Data Frame\n",
    "compare = spark.createDataFrame([\n",
    "    ('0',['22423']),\n",
    "    ('1', ['20725', '21212'])\n",
    "],['ID','remove_dupes'])"
   ]
  },
  {
   "cell_type": "code",
   "execution_count": 16,
   "metadata": {},
   "outputs": [
    {
     "name": "stdout",
     "output_type": "stream",
     "text": [
      "+---+--------------+--------------------+\n",
      "| ID|  remove_dupes|          prediction|\n",
      "+---+--------------+--------------------+\n",
      "|  0|       [22423]|      [22699, 22697]|\n",
      "|  1|[20725, 21212]|[85099B, 22383, 2...|\n",
      "+---+--------------+--------------------+\n",
      "\n"
     ]
    }
   ],
   "source": [
    "model3.transform(compare).show()"
   ]
  },
  {
   "cell_type": "code",
   "execution_count": 18,
   "metadata": {},
   "outputs": [],
   "source": [
    "data.createOrReplaceTempView(\"ecommerce\")"
   ]
  },
  {
   "cell_type": "code",
   "execution_count": 23,
   "metadata": {},
   "outputs": [
    {
     "name": "stdout",
     "output_type": "stream",
     "text": [
      "+---------+--------------------------------+\n",
      "|StockCode|Description                     |\n",
      "+---------+--------------------------------+\n",
      "|22423    |faulty                          |\n",
      "|22423    |damages                         |\n",
      "|22423    |REGENCY CAKESTAND 3 TIER        |\n",
      "|22697    |GREEN REGENCY TEACUP AND SAUCER |\n",
      "|22699    |ROSES REGENCY TEACUP AND SAUCER |\n",
      "+---------+--------------------------------+\n",
      "\n"
     ]
    }
   ],
   "source": [
    "# Find the Description for comparison ID 0\n",
    "query = spark.sql(\"SELECT DISTINCT StockCode, Description \\\n",
    "                FROM ecommerce \\\n",
    "                WHERE (StockCode = '22423' OR StockCode = '22699' OR StockCode = '22697') ORDER BY StockCode\")\n",
    "query.show(truncate = False)"
   ]
  },
  {
   "cell_type": "code",
   "execution_count": 24,
   "metadata": {},
   "outputs": [
    {
     "name": "stdout",
     "output_type": "stream",
     "text": [
      "+---------+-------------------------------+\n",
      "|StockCode|Description                    |\n",
      "+---------+-------------------------------+\n",
      "|20725    |LUNCH BAG RED RETROSPOT        |\n",
      "|20725    |LUNCH BAG RED SPOTTY           |\n",
      "|21212    |PACK OF 72 RETROSPOT CAKE CASES|\n",
      "|22383    |LUNCH BAG SUKI  DESIGN         |\n",
      "|22383    |LUNCH BAG SUKI DESIGN          |\n",
      "|85099B   |JUMBO BAG RED RETROSPOT        |\n",
      "+---------+-------------------------------+\n",
      "\n"
     ]
    }
   ],
   "source": [
    "# Find the Description for comparison ID 1\n",
    "query = spark.sql(\"SELECT DISTINCT StockCode, Description \\\n",
    "                FROM ecommerce \\\n",
    "                WHERE (StockCode = '20725' OR StockCode = '21212' OR StockCode = '85099B' OR StockCOde = '22383') \\\n",
    "                ORDER BY StockCode\")\n",
    "query.show(truncate = False)"
   ]
  },
  {
   "cell_type": "markdown",
   "metadata": {},
   "source": [
    "# Referrence"
   ]
  },
  {
   "cell_type": "markdown",
   "metadata": {},
   "source": [
    "Remove Multiple Items : https://stackoverflow.com/questions/54185710/remove-duplicates-from-pyspark-array-column "
   ]
  }
 ],
 "metadata": {
  "kernelspec": {
   "display_name": "Python 3",
   "language": "python",
   "name": "python3"
  },
  "language_info": {
   "codemirror_mode": {
    "name": "ipython",
    "version": 3
   },
   "file_extension": ".py",
   "mimetype": "text/x-python",
   "name": "python",
   "nbconvert_exporter": "python",
   "pygments_lexer": "ipython3",
   "version": "3.7.1"
  }
 },
 "nbformat": 4,
 "nbformat_minor": 2
}
